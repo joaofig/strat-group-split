{
 "cells": [
  {
   "cell_type": "code",
   "execution_count": 1,
   "metadata": {
    "tags": []
   },
   "outputs": [],
   "source": [
    "import numpy as np\n",
    "\n",
    "from numpy.random import default_rng\n",
    "from numba import njit\n",
    "from typing import Set, Tuple"
   ]
  },
  {
   "cell_type": "code",
   "execution_count": 1,
   "metadata": {
    "collapsed": false,
    "jupyter": {
     "outputs_hidden": false
    }
   },
   "outputs": [],
   "source": []
  },
  {
   "cell_type": "code",
   "execution_count": 2,
   "metadata": {
    "collapsed": false,
    "jupyter": {
     "outputs_hidden": false
    }
   },
   "outputs": [],
   "source": [
    "def generate_problem(num_groups: int,\n",
    "                     num_classes: int,\n",
    "                     min_group_size: int,\n",
    "                     max_group_size: int,\n",
    "                     class_percent: np.array) -> np.ndarray:\n",
    "\n",
    "    problem = np.zeros((num_groups, num_classes), dtype=int)\n",
    "\n",
    "    rng = default_rng()\n",
    "    group_sizes = rng.integers(low=min_group_size,\n",
    "                               high=max_group_size,\n",
    "                               size=num_groups)\n",
    "\n",
    "    for i in range(num_groups):\n",
    "        # Calculate the\n",
    "        proportions = np.random.normal(class_percent, class_percent / 10)\n",
    "\n",
    "        problem[i, :] = proportions * group_sizes[i]\n",
    "    return problem"
   ]
  },
  {
   "cell_type": "code",
   "execution_count": 3,
   "metadata": {
    "collapsed": false,
    "jupyter": {
     "outputs_hidden": false
    }
   },
   "outputs": [],
   "source": [
    "@njit\n",
    "def calculate_cost(problem: np.ndarray,\n",
    "                   solution: np.ndarray,\n",
    "                   k: int) -> float:\n",
    "    cost = 0.0\n",
    "    total = np.sum(problem)\n",
    "    class_sums = np.sum(problem, axis=0)\n",
    "    num_classes = problem.shape[1]\n",
    "\n",
    "    for i in range(k):\n",
    "        idx = solution == i\n",
    "        fold_sum = np.sum(problem[idx, :])\n",
    "\n",
    "        if total > 0.0 and fold_sum > 0.0:\n",
    "            # Start by calculating the fold imbalance cost\n",
    "            cost += (fold_sum / total - 1.0 / k) ** 2\n",
    "\n",
    "            # Now calculate the cost associated with the class imbalances\n",
    "            for j in range(num_classes):\n",
    "                cost += (np.sum(problem[idx, j]) / fold_sum - class_sums[j] / total) ** 2\n",
    "        else:\n",
    "            cost += 1.0\n",
    "    return cost"
   ]
  },
  {
   "cell_type": "code",
   "execution_count": 4,
   "metadata": {
    "collapsed": false,
    "jupyter": {
     "outputs_hidden": false
    }
   },
   "outputs": [],
   "source": [
    "@njit\n",
    "def generate_search_space(problem: np.ndarray,\n",
    "                          solution: np.ndarray,\n",
    "                          k: int) -> np.ndarray:\n",
    "    num_groups = problem.shape[0]\n",
    "\n",
    "    space = np.zeros((num_groups, k))\n",
    "    sol = solution.copy()\n",
    "\n",
    "    for i in range(num_groups):\n",
    "        for j in range(k):\n",
    "            if solution[i] == j:\n",
    "                space[i,j] = np.infty\n",
    "            else:\n",
    "                sol[i] = j\n",
    "                space[i,j] = calculate_cost(problem, sol, k)\n",
    "        sol[i] = solution[i]\n",
    "    return space"
   ]
  },
  {
   "cell_type": "code",
   "execution_count": 5,
   "metadata": {},
   "outputs": [],
   "source": [
    "@njit\n",
    "def solution_to_str(solution: np.ndarray) -> str:\n",
    "    return \"\".join([str(n) for n in solution])"
   ]
  },
  {
   "cell_type": "code",
   "execution_count": 6,
   "outputs": [],
   "source": [
    "def select_move(decision: np.ndarray,\n",
    "                solution: np.ndarray,\n",
    "                history: Set) -> Tuple:\n",
    "    candidates = np.argsort(decision, axis=None)\n",
    "\n",
    "    for c in candidates:\n",
    "        grp, cls = np.unravel_index(c, decision.shape)\n",
    "        s = solution.copy()\n",
    "        s[grp] = cls\n",
    "        sol_str = solution_to_str(s)\n",
    "\n",
    "        if sol_str not in history:\n",
    "            return grp, cls\n",
    "    return -1, -1 # No move found!"
   ],
   "metadata": {
    "collapsed": false
   }
  },
  {
   "cell_type": "code",
   "execution_count": 6,
   "metadata": {},
   "outputs": [],
   "source": []
  },
  {
   "cell_type": "code",
   "execution_count": 7,
   "metadata": {
    "collapsed": false,
    "jupyter": {
     "outputs_hidden": false
    }
   },
   "outputs": [],
   "source": [
    "prb = generate_problem(num_groups=500,\n",
    "                       num_classes=4,\n",
    "                       min_group_size=400,\n",
    "                       max_group_size=2000,\n",
    "                       class_percent=np.array([0.4, 0.3, 0.2, 0.1]))"
   ]
  },
  {
   "cell_type": "code",
   "execution_count": 7,
   "outputs": [],
   "source": [],
   "metadata": {
    "collapsed": false
   }
  },
  {
   "cell_type": "code",
   "execution_count": 8,
   "outputs": [],
   "source": [
    "def generate_initial_solution(problem: np.ndarray,\n",
    "                              k: int,\n",
    "                              algo: str=\"k-bound\") -> np.ndarray:\n",
    "    num_groups = problem.shape[0]\n",
    "    if algo == \"k-bound\":\n",
    "        rng = default_rng()\n",
    "        total = np.sum(problem)\n",
    "        indices = rng.permutation(problem.shape[0])\n",
    "\n",
    "        solution = np.zeros(num_groups, dtype=int)\n",
    "        c = 0\n",
    "        fold_total = 0\n",
    "        for i in indices:\n",
    "            group = np.sum(problem[i, :])\n",
    "            if fold_total + group < total / k:\n",
    "                fold_total += group\n",
    "            else:\n",
    "                c = (c + 1) % k\n",
    "                fold_total = group\n",
    "            solution[i] = c\n",
    "    elif algo == \"random\":\n",
    "        rng = default_rng()\n",
    "        solution = rng.integers(low=0, high=k, size=num_groups)\n",
    "    elif algo == \"zeros\":\n",
    "        solution = np.zeros(num_groups, dtype=int)\n",
    "    else:\n",
    "        raise Exception(\"Invalid algorithm name\")\n",
    "    return solution"
   ],
   "metadata": {
    "collapsed": false
   }
  },
  {
   "cell_type": "code",
   "execution_count": 8,
   "metadata": {
    "collapsed": false,
    "jupyter": {
     "outputs_hidden": false
    }
   },
   "outputs": [],
   "source": []
  },
  {
   "cell_type": "code",
   "execution_count": 9,
   "outputs": [],
   "source": [
    "def solve(problem: np.ndarray,\n",
    "          k=5,\n",
    "          min_cost=1e-5,\n",
    "          max_retry=100,\n",
    "          verbose=False) -> np.ndarray:\n",
    "    hist = set()\n",
    "    retry = 0\n",
    "\n",
    "    solution = generate_initial_solution(problem, k)\n",
    "    incumbent = solution.copy()\n",
    "    low_cost = calculate_cost(problem, solution, k)\n",
    "    cost = 1.0\n",
    "    while retry < max_retry and cost > min_cost:\n",
    "        decision = generate_search_space(problem, solution, k=5)\n",
    "        grp, cls = select_move(decision, solution, hist)\n",
    "\n",
    "        if grp != -1:\n",
    "            solution[grp] = cls\n",
    "            cost = calculate_cost(problem, solution, k=5)\n",
    "            if cost < low_cost:\n",
    "                low_cost = cost\n",
    "                incumbent = solution.copy()\n",
    "                retry = 0\n",
    "                if verbose:\n",
    "                    print(cost)\n",
    "            else:\n",
    "                retry += 1\n",
    "            hist.add(solution_to_str(solution))\n",
    "    return incumbent"
   ],
   "metadata": {
    "collapsed": false
   }
  },
  {
   "cell_type": "code",
   "execution_count": 10,
   "metadata": {},
   "outputs": [
    {
     "name": "stdout",
     "output_type": "stream",
     "text": [
      "8.028158540955434e-05\n",
      "6.502376139707922e-05\n",
      "5.464347782944837e-05\n",
      "4.301962138717457e-05\n",
      "3.6589581706198305e-05\n",
      "2.7849518341838307e-05\n",
      "2.610685042347762e-05\n",
      "2.3610338623673816e-05\n",
      "2.008385337007756e-05\n",
      "1.6837909344540007e-05\n",
      "1.498558025272575e-05\n",
      "1.3517929416647237e-05\n",
      "1.2074721967291692e-05\n",
      "1.1421630300944058e-05\n",
      "1.0721054483775257e-05\n",
      "9.524765715259523e-06\n"
     ]
    },
    {
     "data": {
      "text/plain": "array([4, 0, 4, 2, 2, 1, 0, 4, 2, 1, 1, 3, 3, 0, 0, 0, 3, 1, 3, 2, 4, 2,\n       4, 0, 3, 1, 4, 2, 0, 3, 4, 1, 2, 2, 3, 4, 0, 3, 0, 0, 4, 3, 4, 4,\n       0, 4, 3, 0, 3, 3, 3, 2, 2, 2, 3, 1, 3, 3, 0, 0, 4, 4, 2, 1, 2, 2,\n       4, 2, 1, 4, 3, 2, 4, 3, 3, 1, 3, 0, 1, 1, 4, 2, 3, 1, 0, 0, 1, 3,\n       2, 4, 0, 1, 2, 4, 4, 2, 4, 1, 4, 3, 3, 1, 1, 2, 3, 1, 2, 2, 2, 3,\n       1, 0, 2, 3, 2, 3, 4, 0, 2, 1, 4, 1, 0, 2, 0, 2, 1, 3, 4, 3, 4, 1,\n       3, 3, 1, 4, 2, 0, 2, 2, 0, 1, 3, 4, 2, 3, 0, 1, 2, 0, 2, 1, 4, 0,\n       4, 3, 2, 3, 4, 4, 0, 4, 0, 3, 3, 2, 1, 4, 3, 1, 1, 0, 2, 1, 2, 3,\n       2, 0, 1, 2, 0, 0, 0, 0, 0, 1, 3, 2, 3, 1, 1, 0, 3, 1, 4, 2, 0, 3,\n       1, 2, 0, 4, 4, 2, 0, 1, 2, 4, 1, 1, 1, 2, 1, 0, 4, 0, 4, 1, 3, 4,\n       3, 4, 2, 4, 3, 4, 0, 0, 0, 0, 3, 0, 4, 0, 2, 1, 0, 3, 1, 0, 1, 4,\n       3, 3, 0, 2, 3, 3, 4, 1, 1, 3, 0, 0, 1, 0, 0, 4, 4, 4, 2, 1, 2, 1,\n       2, 0, 1, 2, 1, 2, 0, 3, 3, 0, 1, 3, 0, 1, 3, 2, 2, 3, 1, 0, 4, 2,\n       2, 1, 2, 1, 4, 1, 1, 4, 2, 3, 0, 0, 1, 1, 2, 1, 2, 3, 0, 2, 4, 4,\n       2, 2, 3, 0, 3, 4, 2, 4, 2, 0, 1, 2, 1, 2, 3, 2, 3, 3, 2, 3, 2, 2,\n       1, 4, 1, 2, 2, 3, 0, 3, 4, 4, 1, 0, 0, 3, 1, 2, 4, 4, 4, 0, 4, 3,\n       4, 1, 4, 0, 0, 3, 4, 3, 0, 3, 3, 4, 3, 1, 2, 4, 4, 3, 3, 1, 3, 3,\n       3, 4, 0, 1, 0, 0, 3, 3, 2, 3, 2, 4, 2, 4, 0, 4, 1, 3, 0, 3, 4, 2,\n       2, 3, 0, 1, 0, 2, 2, 1, 1, 3, 2, 4, 3, 0, 4, 1, 0, 2, 1, 0, 1, 3,\n       4, 0, 0, 2, 2, 4, 3, 4, 2, 4, 4, 2, 3, 0, 4, 3, 1, 3, 4, 3, 0, 4,\n       1, 1, 0, 0, 1, 0, 2, 3, 4, 2, 4, 4, 4, 4, 2, 3, 4, 1, 2, 0, 2, 3,\n       1, 1, 0, 2, 0, 1, 2, 0, 1, 0, 2, 4, 2, 1, 0, 2, 4, 1, 1, 2, 4, 2,\n       0, 2, 1, 3, 4, 1, 0, 0, 1, 2, 4, 1, 3, 1, 2, 1])"
     },
     "execution_count": 10,
     "metadata": {},
     "output_type": "execute_result"
    }
   ],
   "source": [
    "solution = solve(prb, min_cost=1e-5, k=5, verbose=True)\n",
    "solution"
   ]
  },
  {
   "cell_type": "code",
   "execution_count": 10,
   "metadata": {
    "collapsed": false,
    "jupyter": {
     "outputs_hidden": false
    }
   },
   "outputs": [],
   "source": []
  },
  {
   "cell_type": "code",
   "execution_count": 11,
   "outputs": [
    {
     "data": {
      "text/plain": "array([0.40122698, 0.29987707, 0.19984937, 0.09904658])"
     },
     "execution_count": 11,
     "metadata": {},
     "output_type": "execute_result"
    }
   ],
   "source": [
    "np.sum(prb, axis=0) / np.sum(prb)"
   ],
   "metadata": {
    "collapsed": false
   }
  },
  {
   "cell_type": "code",
   "execution_count": 12,
   "outputs": [
    {
     "data": {
      "text/plain": "array([[0.40213076, 0.29938555, 0.19929537, 0.09918832],\n       [0.40074922, 0.30057671, 0.19912732, 0.09954675],\n       [0.4010002 , 0.29856801, 0.20065612, 0.09977567],\n       [0.40156828, 0.30083997, 0.19946032, 0.09813143],\n       [0.40068528, 0.30002025, 0.20070553, 0.09858893]])"
     },
     "execution_count": 12,
     "metadata": {},
     "output_type": "execute_result"
    }
   ],
   "source": [
    "folds = [prb[solution==i] for i in range(5)]\n",
    "fold_percents = np.array([np.sum(folds[i], axis=0) / np.sum(folds[i]) for i in range(5)])\n",
    "fold_percents"
   ],
   "metadata": {
    "collapsed": false
   }
  },
  {
   "cell_type": "code",
   "execution_count": 13,
   "outputs": [
    {
     "data": {
      "text/plain": "[0.20034752594623986,\n 0.19969401505608037,\n 0.20023438581796935,\n 0.19963153468673694,\n 0.20009253849297348]"
     },
     "execution_count": 13,
     "metadata": {},
     "output_type": "execute_result"
    }
   ],
   "source": [
    "[np.sum(folds[i]) / np.sum(prb) for i in range(5)]"
   ],
   "metadata": {
    "collapsed": false
   }
  },
  {
   "cell_type": "code",
   "execution_count": 13,
   "outputs": [],
   "source": [],
   "metadata": {
    "collapsed": false
   }
  },
  {
   "cell_type": "code",
   "execution_count": 14,
   "outputs": [],
   "source": [
    "# import pandas as pd"
   ],
   "metadata": {
    "collapsed": false
   }
  },
  {
   "cell_type": "code",
   "execution_count": 15,
   "outputs": [],
   "source": [
    "# df = pd.DataFrame(data=prb, columns=['Class 0', 'Class 1', 'Class 2', 'Class 3'])\n",
    "# df['Solution'] = solution"
   ],
   "metadata": {
    "collapsed": false
   }
  },
  {
   "cell_type": "code",
   "execution_count": 16,
   "outputs": [],
   "source": [
    "# df"
   ],
   "metadata": {
    "collapsed": false
   }
  },
  {
   "cell_type": "code",
   "execution_count": 17,
   "outputs": [],
   "source": [
    "# df.to_clipboard(excel=True)"
   ],
   "metadata": {
    "collapsed": false
   }
  },
  {
   "cell_type": "code",
   "execution_count": 18,
   "outputs": [],
   "source": [
    "# decision_df = pd.DataFrame(data=generate_search_space(prb, solution, k=5), columns=['Fold 0', 'Fold 1', 'Fold 2', 'Fold 3', 'Fold 4'])\n",
    "# decision_df"
   ],
   "metadata": {
    "collapsed": false
   }
  },
  {
   "cell_type": "code",
   "execution_count": 18,
   "outputs": [],
   "source": [],
   "metadata": {
    "collapsed": false
   }
  },
  {
   "cell_type": "code",
   "execution_count": 19,
   "outputs": [],
   "source": [
    "# decision_df.to_clipboard(excel=True)"
   ],
   "metadata": {
    "collapsed": false
   }
  },
  {
   "cell_type": "code",
   "execution_count": 19,
   "outputs": [],
   "source": [],
   "metadata": {
    "collapsed": false
   }
  }
 ],
 "metadata": {
  "kernelspec": {
   "display_name": "Python 3 (ipykernel)",
   "language": "python",
   "name": "python3"
  },
  "language_info": {
   "codemirror_mode": {
    "name": "ipython",
    "version": 3
   },
   "file_extension": ".py",
   "mimetype": "text/x-python",
   "name": "python",
   "nbconvert_exporter": "python",
   "pygments_lexer": "ipython3",
   "version": "3.10.4"
  }
 },
 "nbformat": 4,
 "nbformat_minor": 4
}
