{
 "cells": [
  {
   "cell_type": "code",
   "execution_count": 1,
   "metadata": {
    "tags": []
   },
   "outputs": [],
   "source": [
    "import numpy as np\n",
    "\n",
    "from numpy.random import default_rng\n",
    "from numba import njit\n",
    "from typing import Set, Tuple"
   ]
  },
  {
   "cell_type": "code",
   "execution_count": 1,
   "metadata": {
    "collapsed": false,
    "jupyter": {
     "outputs_hidden": false
    }
   },
   "outputs": [],
   "source": []
  },
  {
   "cell_type": "code",
   "execution_count": 2,
   "metadata": {
    "collapsed": false,
    "jupyter": {
     "outputs_hidden": false
    }
   },
   "outputs": [],
   "source": [
    "def generate_problem(num_groups: int,\n",
    "                     num_classes: int,\n",
    "                     min_group_size: int,\n",
    "                     max_group_size: int,\n",
    "                     class_percent: np.array) -> np.ndarray:\n",
    "\n",
    "    problem = np.zeros((num_groups, num_classes), dtype=int)\n",
    "\n",
    "    rng = default_rng()\n",
    "    group_sizes = rng.integers(low=min_group_size,\n",
    "                               high=max_group_size,\n",
    "                               size=num_groups)\n",
    "\n",
    "    for i in range(num_groups):\n",
    "        # Calculate the\n",
    "        proportions = np.random.normal(class_percent, class_percent / 10)\n",
    "\n",
    "        problem[i, :] = proportions * group_sizes[i]\n",
    "    return problem"
   ]
  },
  {
   "cell_type": "code",
   "execution_count": 3,
   "metadata": {
    "collapsed": false,
    "jupyter": {
     "outputs_hidden": false
    }
   },
   "outputs": [],
   "source": [
    "@njit\n",
    "def calculate_cost(problem: np.ndarray,\n",
    "                   solution: np.ndarray,\n",
    "                   k: int) -> float:\n",
    "    cost = 0.0\n",
    "    total = np.sum(problem)\n",
    "    class_sums = np.sum(problem, axis=0)\n",
    "    num_classes = problem.shape[1]\n",
    "\n",
    "    for i in range(k):\n",
    "        idx = solution == i\n",
    "        fold_sum = np.sum(problem[idx, :])\n",
    "\n",
    "        # Start by calculating the fold imbalance cost\n",
    "        cost += (fold_sum / total - 1.0 / k) ** 2\n",
    "\n",
    "        # Now calculate the cost associated with the class imbalances\n",
    "        for j in range(num_classes):\n",
    "            cost += (np.sum(problem[idx, j]) / fold_sum - class_sums[j] / total) ** 2\n",
    "    return cost"
   ]
  },
  {
   "cell_type": "code",
   "execution_count": 4,
   "metadata": {
    "collapsed": false,
    "jupyter": {
     "outputs_hidden": false
    }
   },
   "outputs": [],
   "source": [
    "@njit\n",
    "def calculate_decision_space(problem: np.ndarray,\n",
    "                             solution: np.ndarray,\n",
    "                             k: int) -> np.ndarray:\n",
    "    num_groups = problem.shape[0]\n",
    "    cost = calculate_cost(problem, solution, k)\n",
    "\n",
    "    space = np.zeros((num_groups, k))\n",
    "    sol = solution.copy()\n",
    "\n",
    "    for i in range(num_groups):\n",
    "        for j in range(k):\n",
    "            if solution[i] == j:\n",
    "                space[i,j] = np.infty\n",
    "            else:\n",
    "                sol[i] = j\n",
    "                space[i,j] = calculate_cost(problem, sol, k) - cost\n",
    "        sol[i] = solution[i]\n",
    "    return space"
   ]
  },
  {
   "cell_type": "code",
   "execution_count": 5,
   "metadata": {},
   "outputs": [],
   "source": [
    "@njit\n",
    "def solution_to_str(solution: np.ndarray) -> str:\n",
    "    return \"\".join([str(n) for n in solution])"
   ]
  },
  {
   "cell_type": "code",
   "execution_count": 6,
   "outputs": [],
   "source": [
    "def select_move(decision: np.ndarray,\n",
    "                solution: np.ndarray,\n",
    "                history: Set) -> Tuple:\n",
    "    candidates = np.argsort(decision.flatten())\n",
    "\n",
    "    for c in candidates:\n",
    "        p = np.unravel_index(c, decision.shape)\n",
    "        s = solution.copy()\n",
    "        s[p[0]] = p[1]\n",
    "        sol_str = solution_to_str(s)\n",
    "\n",
    "        if sol_str not in history:\n",
    "            return p\n",
    "    return -1, -1 # No move found!"
   ],
   "metadata": {
    "collapsed": false
   }
  },
  {
   "cell_type": "code",
   "execution_count": 6,
   "metadata": {},
   "outputs": [],
   "source": []
  },
  {
   "cell_type": "code",
   "execution_count": 7,
   "metadata": {
    "collapsed": false,
    "jupyter": {
     "outputs_hidden": false
    }
   },
   "outputs": [],
   "source": [
    "num_groups = 1000"
   ]
  },
  {
   "cell_type": "code",
   "execution_count": 8,
   "metadata": {
    "collapsed": false,
    "jupyter": {
     "outputs_hidden": false
    }
   },
   "outputs": [],
   "source": [
    "prb = generate_problem(num_groups=num_groups,\n",
    "                       num_classes=4,\n",
    "                       min_group_size=400,\n",
    "                       max_group_size=2000,\n",
    "                       class_percent=np.array([0.4, 0.3, 0.2, 0.1]))"
   ]
  },
  {
   "cell_type": "code",
   "execution_count": 9,
   "metadata": {
    "collapsed": false,
    "jupyter": {
     "outputs_hidden": false
    }
   },
   "outputs": [
    {
     "data": {
      "text/plain": "(1000, 4)"
     },
     "execution_count": 9,
     "metadata": {},
     "output_type": "execute_result"
    }
   ],
   "source": [
    "prb.shape"
   ]
  },
  {
   "cell_type": "code",
   "execution_count": 10,
   "metadata": {
    "collapsed": false,
    "jupyter": {
     "outputs_hidden": false
    }
   },
   "outputs": [],
   "source": [
    "rng = default_rng()\n",
    "sol = rng.integers(low=0, high=5, size=num_groups)"
   ]
  },
  {
   "cell_type": "code",
   "execution_count": 11,
   "metadata": {
    "collapsed": false,
    "jupyter": {
     "outputs_hidden": false
    }
   },
   "outputs": [
    {
     "data": {
      "text/plain": "0.00108105244072681"
     },
     "execution_count": 11,
     "metadata": {},
     "output_type": "execute_result"
    }
   ],
   "source": [
    "calculate_cost(prb, sol, k=5)"
   ]
  },
  {
   "cell_type": "code",
   "execution_count": 12,
   "metadata": {
    "collapsed": false,
    "jupyter": {
     "outputs_hidden": false
    }
   },
   "outputs": [],
   "source": [
    "decision = calculate_decision_space(prb, sol, k=5)"
   ]
  },
  {
   "cell_type": "code",
   "execution_count": 13,
   "metadata": {
    "collapsed": false,
    "jupyter": {
     "outputs_hidden": false
    }
   },
   "outputs": [
    {
     "data": {
      "text/plain": "3941"
     },
     "execution_count": 13,
     "metadata": {},
     "output_type": "execute_result"
    }
   ],
   "source": [
    "np.argmin(decision)"
   ]
  },
  {
   "cell_type": "code",
   "execution_count": 14,
   "metadata": {
    "collapsed": false,
    "jupyter": {
     "outputs_hidden": false
    }
   },
   "outputs": [
    {
     "data": {
      "text/plain": "(27, 1)"
     },
     "execution_count": 14,
     "metadata": {},
     "output_type": "execute_result"
    }
   ],
   "source": [
    "np.unravel_index(136, (100, 5))"
   ]
  },
  {
   "cell_type": "code",
   "execution_count": 15,
   "metadata": {
    "collapsed": false,
    "jupyter": {
     "outputs_hidden": false
    }
   },
   "outputs": [],
   "source": [
    "sol[27] = 1"
   ]
  },
  {
   "cell_type": "code",
   "execution_count": 15,
   "metadata": {
    "collapsed": false,
    "jupyter": {
     "outputs_hidden": false
    }
   },
   "outputs": [],
   "source": []
  },
  {
   "cell_type": "code",
   "execution_count": 16,
   "metadata": {
    "collapsed": false,
    "jupyter": {
     "outputs_hidden": false
    }
   },
   "outputs": [],
   "source": [
    "# decision = calculate_decision_space(prb, sol, k=5)\n",
    "# p = np.unravel_index(np.argmin(decision), (100, 5))\n",
    "# sol[p[0]] = p[1]\n",
    "# calculate_cost(prb, sol)"
   ]
  },
  {
   "cell_type": "code",
   "execution_count": 17,
   "metadata": {},
   "outputs": [],
   "source": [
    "hist = set()\n",
    "hist.add(solution_to_str(sol))"
   ]
  },
  {
   "cell_type": "code",
   "execution_count": 18,
   "metadata": {
    "collapsed": false,
    "jupyter": {
     "outputs_hidden": false
    }
   },
   "outputs": [
    {
     "name": "stdout",
     "output_type": "stream",
     "text": [
      "0.0008787027701381814\n",
      "0.0007431331079842229\n",
      "0.0006202382815112399\n",
      "0.000511131040571599\n",
      "0.00041421139774633364\n",
      "0.0003296694353842572\n",
      "0.00025815611015707546\n",
      "0.00019876350969466884\n",
      "0.00015080011291905348\n",
      "0.00010985365669982846\n",
      "7.828612911850918e-05\n",
      "5.4463756966780216e-05\n",
      "3.519570409699899e-05\n",
      "2.2266826014196292e-05\n",
      "1.4651702470433843e-05\n",
      "1.1569104521666235e-05\n",
      "8.619208614099477e-06\n",
      "7.526463381020699e-06\n",
      "6.969889855504357e-06\n",
      "6.153364811870221e-06\n",
      "5.49179499272739e-06\n",
      "4.908317943370572e-06\n",
      "4.68972741866348e-06\n",
      "4.217141826349522e-06\n",
      "4.048036123430371e-06\n",
      "3.4288198460860648e-06\n",
      "2.966865431557974e-06\n",
      "2.8294093198339518e-06\n",
      "2.5160758438843224e-06\n",
      "2.4040589321383862e-06\n",
      "2.298909804440592e-06\n",
      "2.2560909197063692e-06\n",
      "2.2485525326110256e-06\n",
      "1.983689027218958e-06\n",
      "1.8197589310227087e-06\n",
      "1.713400411942321e-06\n",
      "1.6704207431504518e-06\n",
      "1.5322888664999135e-06\n",
      "1.4359647908642307e-06\n",
      "1.4109174871844723e-06\n",
      "1.290888031128267e-06\n",
      "1.1782737080223696e-06\n",
      "1.1300630003980308e-06\n",
      "1.1011372208647455e-06\n",
      "1.047606369259741e-06\n",
      "1.0456338695280043e-06\n",
      "1.0414478770489168e-06\n",
      "1.0267596260544718e-06\n",
      "1.0258540789809034e-06\n",
      "9.88426955996692e-07\n",
      "9.85103591621151e-07\n",
      "8.969704466763788e-07\n",
      "8.226566955148868e-07\n",
      "7.970755660004151e-07\n",
      "7.96384105278056e-07\n",
      "7.934797138700412e-07\n",
      "7.910777094083139e-07\n",
      "7.761018735590982e-07\n",
      "7.436977683695933e-07\n",
      "7.374371867337218e-07\n",
      "5.878092275436576e-07\n",
      "5.532123247241033e-07\n",
      "5.525711395913127e-07\n",
      "5.449790546178553e-07\n",
      "5.400548129073058e-07\n",
      "5.299109692529422e-07\n",
      "5.17761566297166e-07\n",
      "5.143035427853611e-07\n",
      "5.105315913299633e-07\n",
      "5.093266376890672e-07\n",
      "5.014934649733806e-07\n",
      "4.824031993342667e-07\n",
      "4.816970463366119e-07\n",
      "4.808206022025562e-07\n"
     ]
    }
   ],
   "source": [
    "retry = 0\n",
    "incumbent = sol.copy()\n",
    "low_cost = calculate_cost(prb, sol, k=5)\n",
    "while retry < num_groups:\n",
    "    decision = calculate_decision_space(prb, sol, k=5)\n",
    "    move = select_move(decision, sol, hist)\n",
    "\n",
    "    if move != (-1, -1):\n",
    "        sol[move[0]] = move[1]\n",
    "        cost = calculate_cost(prb, sol, k=5)\n",
    "        if cost < low_cost:\n",
    "            low_cost = cost\n",
    "            incumbent = sol.copy()\n",
    "            retry = 0\n",
    "            print(cost)\n",
    "        else:\n",
    "            retry += 1\n",
    "        hist.add(solution_to_str(sol))\n",
    "    else:\n",
    "        print(\"No more possible moves!\")"
   ]
  },
  {
   "cell_type": "code",
   "execution_count": 19,
   "metadata": {
    "collapsed": false,
    "jupyter": {
     "outputs_hidden": false
    }
   },
   "outputs": [
    {
     "data": {
      "text/plain": "1000"
     },
     "execution_count": 19,
     "metadata": {},
     "output_type": "execute_result"
    }
   ],
   "source": [
    "retry"
   ]
  },
  {
   "cell_type": "code",
   "execution_count": 20,
   "metadata": {
    "collapsed": false,
    "jupyter": {
     "outputs_hidden": false
    }
   },
   "outputs": [
    {
     "data": {
      "text/plain": "array([1, 1, 0, 1, 2, 0, 1, 3, 2, 0, 3, 2, 1, 0, 2, 0, 3, 0, 1, 3, 2, 4,\n       1, 4, 0, 4, 4, 1, 2, 1, 4, 1, 4, 2, 3, 1, 4, 0, 0, 0, 0, 1, 0, 4,\n       2, 2, 0, 4, 0, 1, 1, 2, 4, 1, 3, 4, 4, 3, 2, 1, 2, 3, 0, 3, 1, 3,\n       2, 3, 3, 4, 4, 3, 0, 2, 0, 0, 2, 3, 0, 1, 1, 0, 1, 2, 0, 0, 3, 1,\n       4, 3, 3, 4, 1, 1, 3, 0, 2, 0, 3, 0, 3, 3, 0, 0, 3, 1, 4, 3, 3, 4,\n       4, 2, 3, 4, 4, 3, 3, 0, 0, 0, 0, 1, 3, 4, 4, 4, 0, 3, 1, 1, 3, 0,\n       3, 2, 2, 4, 2, 3, 4, 3, 0, 0, 3, 0, 0, 1, 1, 3, 2, 4, 4, 3, 3, 1,\n       0, 3, 1, 1, 4, 3, 4, 2, 3, 0, 2, 0, 3, 3, 1, 4, 0, 1, 0, 4, 1, 4,\n       3, 1, 1, 2, 1, 0, 4, 0, 3, 3, 0, 1, 2, 3, 3, 4, 2, 1, 0, 3, 2, 0,\n       4, 2, 3, 4, 1, 1, 2, 1, 3, 0, 1, 4, 4, 3, 4, 1, 1, 2, 4, 2, 1, 2,\n       2, 2, 2, 2, 2, 3, 1, 0, 3, 3, 3, 3, 0, 3, 1, 2, 2, 3, 1, 2, 1, 2,\n       0, 2, 1, 3, 3, 2, 1, 3, 1, 1, 2, 4, 2, 0, 0, 1, 1, 4, 2, 4, 3, 1,\n       3, 4, 0, 0, 4, 2, 0, 1, 4, 3, 2, 3, 1, 4, 2, 2, 1, 3, 1, 2, 0, 3,\n       0, 0, 0, 0, 3, 4, 2, 1, 2, 2, 0, 1, 4, 1, 3, 1, 0, 3, 1, 4, 1, 3,\n       2, 3, 1, 4, 4, 1, 1, 3, 1, 3, 0, 1, 0, 3, 0, 0, 0, 1, 0, 1, 3, 3,\n       4, 3, 0, 4, 1, 0, 0, 4, 2, 2, 1, 1, 4, 0, 2, 3, 2, 4, 1, 2, 3, 0,\n       4, 3, 4, 1, 3, 4, 3, 2, 4, 2, 4, 4, 1, 1, 1, 3, 3, 2, 2, 4, 0, 3,\n       3, 0, 0, 4, 0, 0, 0, 3, 1, 1, 1, 0, 0, 2, 4, 0, 3, 4, 3, 3, 0, 0,\n       2, 2, 2, 4, 3, 2, 1, 0, 2, 3, 1, 2, 1, 4, 1, 1, 1, 2, 3, 4, 1, 0,\n       2, 2, 0, 3, 3, 4, 4, 1, 2, 2, 1, 4, 1, 3, 2, 1, 3, 3, 0, 2, 2, 2,\n       4, 1, 4, 0, 2, 4, 2, 2, 1, 1, 0, 2, 3, 4, 0, 0, 3, 3, 1, 2, 3, 4,\n       0, 1, 1, 2, 3, 2, 3, 1, 3, 0, 4, 2, 4, 4, 2, 3, 1, 2, 4, 2, 0, 1,\n       3, 2, 2, 1, 4, 1, 4, 2, 0, 0, 0, 2, 4, 1, 3, 2, 0, 3, 4, 0, 2, 4,\n       4, 2, 0, 3, 2, 2, 3, 4, 4, 3, 4, 3, 2, 0, 0, 1, 2, 1, 2, 4, 2, 3,\n       2, 4, 0, 3, 1, 0, 3, 0, 1, 1, 1, 2, 1, 0, 0, 2, 0, 2, 1, 1, 2, 0,\n       4, 1, 0, 2, 1, 3, 4, 2, 0, 1, 2, 2, 3, 4, 2, 0, 4, 4, 0, 0, 4, 3,\n       4, 3, 2, 4, 4, 4, 3, 1, 0, 1, 4, 4, 1, 2, 2, 4, 1, 3, 1, 2, 0, 4,\n       4, 2, 1, 4, 2, 1, 0, 1, 1, 3, 4, 4, 4, 4, 1, 1, 3, 4, 2, 1, 4, 0,\n       3, 2, 0, 1, 2, 1, 1, 2, 4, 0, 0, 3, 0, 3, 4, 4, 0, 4, 2, 3, 3, 0,\n       0, 3, 4, 1, 4, 4, 0, 1, 0, 2, 0, 2, 3, 3, 0, 4, 0, 1, 1, 2, 0, 0,\n       2, 2, 4, 3, 3, 4, 1, 3, 1, 3, 0, 0, 3, 0, 2, 2, 2, 0, 0, 3, 4, 0,\n       4, 1, 0, 1, 3, 4, 1, 0, 2, 3, 2, 1, 1, 3, 3, 0, 2, 2, 3, 0, 3, 4,\n       2, 4, 3, 4, 3, 3, 3, 2, 3, 3, 1, 2, 2, 3, 2, 4, 1, 4, 1, 0, 4, 2,\n       3, 3, 3, 1, 4, 3, 3, 4, 3, 2, 3, 1, 0, 3, 2, 3, 3, 1, 2, 0, 3, 2,\n       4, 4, 1, 3, 0, 0, 4, 2, 4, 2, 4, 0, 3, 4, 4, 1, 0, 1, 2, 3, 0, 4,\n       0, 1, 0, 2, 2, 4, 0, 3, 4, 3, 3, 0, 3, 4, 3, 2, 1, 2, 1, 0, 4, 2,\n       0, 1, 2, 3, 4, 3, 2, 2, 1, 4, 2, 1, 1, 1, 4, 3, 3, 1, 3, 0, 0, 0,\n       2, 0, 1, 0, 4, 1, 1, 0, 2, 2, 0, 0, 2, 3, 0, 4, 1, 0, 0, 4, 4, 1,\n       4, 0, 4, 4, 4, 2, 0, 0, 4, 1, 1, 1, 2, 2, 1, 2, 3, 3, 1, 4, 1, 4,\n       0, 1, 3, 1, 3, 0, 0, 2, 2, 4, 4, 0, 2, 0, 2, 3, 0, 3, 0, 2, 0, 4,\n       4, 4, 0, 1, 2, 2, 4, 2, 4, 0, 2, 2, 2, 4, 1, 4, 1, 1, 1, 1, 3, 4,\n       2, 4, 3, 1, 2, 4, 0, 2, 4, 4, 1, 2, 0, 2, 4, 4, 3, 4, 2, 0, 3, 0,\n       4, 4, 0, 2, 2, 3, 2, 2, 1, 2, 2, 2, 4, 2, 0, 3, 3, 3, 4, 1, 1, 1,\n       3, 0, 0, 2, 3, 4, 0, 4, 0, 3, 2, 2, 0, 1, 2, 1, 1, 2, 4, 1, 3, 4,\n       4, 2, 3, 4, 0, 4, 4, 2, 2, 2, 3, 0, 3, 4, 2, 0, 4, 0, 1, 2, 2, 4,\n       2, 2, 4, 4, 1, 2, 2, 4, 2, 0])"
     },
     "execution_count": 20,
     "metadata": {},
     "output_type": "execute_result"
    }
   ],
   "source": [
    "sol"
   ]
  },
  {
   "cell_type": "code",
   "execution_count": 21,
   "metadata": {},
   "outputs": [
    {
     "data": {
      "text/plain": "1739"
     },
     "execution_count": 21,
     "metadata": {},
     "output_type": "execute_result"
    }
   ],
   "source": [
    "len(hist)"
   ]
  },
  {
   "cell_type": "code",
   "execution_count": 22,
   "outputs": [
    {
     "data": {
      "text/plain": "array([0.3996377 , 0.30109283, 0.19999695, 0.09927252])"
     },
     "execution_count": 22,
     "metadata": {},
     "output_type": "execute_result"
    }
   ],
   "source": [
    "np.sum(prb, axis=0) / np.sum(prb)"
   ],
   "metadata": {
    "collapsed": false
   }
  },
  {
   "cell_type": "code",
   "execution_count": 23,
   "outputs": [
    {
     "data": {
      "text/plain": "array([[0.3996801 , 0.30130971, 0.19996097, 0.09904922],\n       [0.39960673, 0.30100605, 0.19990084, 0.09948638],\n       [0.3995654 , 0.30106824, 0.20004584, 0.09932052],\n       [0.39951511, 0.30110498, 0.19985928, 0.09952062],\n       [0.39982112, 0.30097536, 0.20021788, 0.09898564]])"
     },
     "execution_count": 23,
     "metadata": {},
     "output_type": "execute_result"
    }
   ],
   "source": [
    "folds = [prb[sol==i] for i in range(5)]\n",
    "fold_percents = np.array([np.sum(folds[i], axis=0) / np.sum(folds[i]) for i in range(5)])\n",
    "fold_percents"
   ],
   "metadata": {
    "collapsed": false
   }
  },
  {
   "cell_type": "code",
   "execution_count": 24,
   "outputs": [
    {
     "data": {
      "text/plain": "[0.19989263343221914,\n 0.20012246234113396,\n 0.19982478725984576,\n 0.2000876911777926,\n 0.20007242578900858]"
     },
     "execution_count": 24,
     "metadata": {},
     "output_type": "execute_result"
    }
   ],
   "source": [
    "[np.sum(folds[i]) / np.sum(prb) for i in range(5)]"
   ],
   "metadata": {
    "collapsed": false
   }
  },
  {
   "cell_type": "code",
   "execution_count": 24,
   "outputs": [],
   "source": [],
   "metadata": {
    "collapsed": false
   }
  }
 ],
 "metadata": {
  "kernelspec": {
   "display_name": "Python 3 (ipykernel)",
   "language": "python",
   "name": "python3"
  },
  "language_info": {
   "codemirror_mode": {
    "name": "ipython",
    "version": 3
   },
   "file_extension": ".py",
   "mimetype": "text/x-python",
   "name": "python",
   "nbconvert_exporter": "python",
   "pygments_lexer": "ipython3",
   "version": "3.10.4"
  }
 },
 "nbformat": 4,
 "nbformat_minor": 4
}
